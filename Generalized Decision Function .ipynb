{
 "cells": [
  {
   "cell_type": "markdown",
   "id": "f4816bae",
   "metadata": {},
   "source": [
    "# Implementing the generalized decision function formulation (GDF) for the rth order and with n dimensions. Illustrating the program works for the different cases described below:"
   ]
  },
  {
   "cell_type": "markdown",
   "id": "d0ce1292",
   "metadata": {},
   "source": [
    "# The Generalized Decision Function (GDF) \n",
    "Generalized Decision Function is a mathematical formula used in pattern recognition, classification, and machine learning algorithms. It is used to calculate the output of a decision boundary that separates different classes of data. The GDF is formulated as a polynomial function of the input features, and the degree of the polynomial is determined by the order of the GDF.\n",
    "\n"
   ]
  },
  {
   "cell_type": "markdown",
   "id": "e1f786bb",
   "metadata": {},
   "source": [
    "# (a)\tSecond degree with 2 dimensions"
   ]
  },
  {
   "cell_type": "markdown",
   "id": "d4cdbaec",
   "metadata": {},
   "source": [
    "The function takes four arguments:\n",
    "\n",
    "w: a list of weights\n",
    "\n",
    "x: a list of input features\n",
    "\n",
    "r: an index indicating the bias weight\n",
    "\n",
    "n: the number of input features\n",
    "\n",
    "The function computes the output of a GDF with a quadratic term for a two-dimensional input feature vector.\n",
    "\n",
    "The function first initializes a variable res to zero. This variable will be used to accumulate the value of the GDF as it is computed.\n",
    "\n",
    "The function then computes the linear term of the GDF. This is done by looping over each input feature and multiplying its weight by its value, and adding the result to res.\n",
    "\n",
    "Next, the function computes the quadratic terms of the GDF. This is done by looping over each pair of input features and multiplying their weights together, along with their corresponding feature values. To avoid counting duplicate terms (i.e., terms where i == j) and terms where i > j, the inner loop starts at i instead of 0 and uses a break statement to exit the loop when j becomes less than i.\n",
    "\n",
    "Finally, the function adds the bias weight w[r] to the result and returns the final value of res."
   ]
  },
  {
   "cell_type": "code",
   "execution_count": 20,
   "id": "72e28991",
   "metadata": {},
   "outputs": [
    {
     "name": "stdout",
     "output_type": "stream",
     "text": [
      "493\n"
     ]
    }
   ],
   "source": [
    "def gdf2_2d(w, x, r, n):\n",
    "    res = 0\n",
    "    # D1 - Compute the linear term of the GDF\n",
    "    for i in range(0,n):\n",
    "      res += w[i] * x[i]\n",
    "      \n",
    "    # D2 - Compute the quadratic terms of the GDF\n",
    "    for i in range(0, n):\n",
    "      for j in range(i, n):\n",
    "        # Ignore duplicate terms and terms where i > j\n",
    "        if i > j:\n",
    "          break\n",
    "        res += w[i] * w[j] * x[i] * x[j]\n",
    "        \n",
    "    # Add the bias term\n",
    "    return res + w[r]\n",
    "\n",
    "              \n",
    "                \n",
    "                \n",
    "print(gdf2_2d([1,5,1], [3,4,1], 2, 2))\n"
   ]
  },
  {
   "cell_type": "markdown",
   "id": "33522a12",
   "metadata": {},
   "source": [
    "# (b)\tThird degree with 2 dimensions"
   ]
  },
  {
   "cell_type": "markdown",
   "id": "4e19ff3b",
   "metadata": {},
   "source": [
    "The function gdf3_2d computes the output of a second-order polynomial model with three input features and one bias term, given the weight vector w and the input feature vector x.\n",
    "\n",
    "The function first initializes the result variable res to zero. Then, it computes the linear term of the polynomial model, by looping over the input features x and multiplying them with the corresponding weights w. This computation is done in the D1 loop.\n",
    "\n",
    "Next, the function computes the quadratic term of the polynomial model. This is done in the D2 loop, which loops over all pairs of input features and computes the product of their corresponding weights and values. The products are then added to the result.\n",
    "\n",
    "Finally, the function computes the cubic term of the polynomial model. This is done in the D3 loop, which loops over all triples of input features and computes the product of their corresponding weights and values. The products are then added to the result.\n",
    "\n",
    "The function then adds the bias term, which is the last element of the weight vector w, to the result and returns it."
   ]
  },
  {
   "cell_type": "code",
   "execution_count": 21,
   "id": "c231fda8",
   "metadata": {},
   "outputs": [
    {
     "name": "stdout",
     "output_type": "stream",
     "text": [
      "9900\n"
     ]
    }
   ],
   "source": [
    "def gdf3_2d(w, x, r, n):\n",
    "    res = 0\n",
    "    # D1: Compute linear term\n",
    "    for i in range(0,n):\n",
    "        res += w[i]*x[i]\n",
    "    \n",
    "    # D2: Compute quadratic term\n",
    "    for i in range(0,n):\n",
    "        for j in range(i,n):\n",
    "            if i>j:\n",
    "                break\n",
    "            res += w[i]*w[j]*x[i]*x[j]\n",
    "    \n",
    "    # D3: Compute cubic term\n",
    "    for i in range(0,r):\n",
    "        for j in range(i,n):\n",
    "            for k in range(j,n):\n",
    "                if i>j and j>k:\n",
    "                    break\n",
    "                res += w[i]*w[j]*w[k]*x[i]*x[j]*x[k]\n",
    "    \n",
    "    # Add bias term\n",
    "    return res + w[n]\n",
    "\n",
    "\n",
    "              \n",
    "                \n",
    "                \n",
    "print(gdf3_2d([1,5,1], [3,4,1], 3, 2))\n"
   ]
  },
  {
   "cell_type": "markdown",
   "id": "b5d67a8e",
   "metadata": {},
   "source": [
    "# (c)\tSecond degree with 3 dimensions"
   ]
  },
  {
   "cell_type": "markdown",
   "id": "4a81af98",
   "metadata": {},
   "source": [
    "w: A list of weights for each dimension.\n",
    "\n",
    "x: A list of inputs for each dimension.\n",
    "\n",
    "r: The index of the dimension to add the bias term to.\n",
    "\n",
    "n: The number of dimensions in the input.\n",
    "\n",
    "The function takes four parameters, w, x, r, and n, where w is a list of weights, x is a list of inputs, r is the index of the dimension to add the bias term to, and n is the number of dimensions in the input.\n",
    "\n",
    "The function then initializes the result to zero and proceeds to calculate the linear and second degree parts of the equation.\n",
    "\n",
    "In the first loop, labeled d1, the function calculates the linear part of the equation by multiplying each weight with its corresponding input and adding it to the result.\n",
    "\n",
    "In the second loop, labeled d2, the function calculates the second degree part of the equation by multiplying the weight of each pair of dimensions with their corresponding inputs, and adding it to the result. The loop is optimized by using the condition if i>j: break to avoid unnecessary iterations.\n",
    "\n",
    "Finally, the function adds the bias term by adding the weight of the r-th dimension to the result.\n",
    "\n",
    "The function then returns the final result.\n",
    "\n",
    "\n",
    "\n",
    "\n"
   ]
  },
  {
   "cell_type": "code",
   "execution_count": 26,
   "id": "4d76211a",
   "metadata": {},
   "outputs": [
    {
     "name": "stdout",
     "output_type": "stream",
     "text": [
      "574\n"
     ]
    }
   ],
   "source": [
    "def gdf2_3d(w, x, r, n):\n",
    "    res = 0\n",
    "    #D1: Calculate the linear part of the equation\n",
    "    for i in range(0,n):\n",
    "      res += w[i]*x[i]\n",
    "    \n",
    "    #D2: Calculate the second degree part of the equation\n",
    "    for i in range(0,n):\n",
    "      for j in range(i,n):\n",
    "        if i>j:\n",
    "          break\n",
    "        res += w[i]*w[j]*x[i]*x[j]\n",
    "    \n",
    "    # Add the bias term\n",
    "    return res + w[n]\n",
    "\n",
    "                \n",
    "                \n",
    "print(gdf2_3d([1,5,3,1], [3,4,1,1], 2, 3))\n"
   ]
  },
  {
   "cell_type": "markdown",
   "id": "c7a6d682",
   "metadata": {},
   "source": [
    "# (d)\tThird degree with 3 dimensions"
   ]
  },
  {
   "cell_type": "markdown",
   "id": "faa88275",
   "metadata": {},
   "source": [
    "The function gdf3_3d takes 4 input arguments: w, x, r, and n.\n",
    "w is a list of weights for each feature.\n",
    "\n",
    "x is a list of input feature values.\n",
    "\n",
    "r is an index for the weight associated with a bias term.\n",
    "\n",
    "n is the number of input features.\n",
    "\n",
    "The function calculates the value of a quadratic polynomial in 3 dimensions, with interaction terms up to order 3.\n",
    "res is a variable to keep track of the polynomial value.\n",
    "In the first loop (D1), the linear terms of the polynomial are calculated by multiplying each weight with its corresponding feature value, and summing the results.\n",
    "In the second loop (D2), the interaction terms of order 2 are calculated by multiplying each pair of weights and their corresponding feature values, and summing the results. The loop is optimized by breaking when i>j to avoid computing duplicates.\n",
    "In the third loop (D3), the interaction terms of order 3 are calculated by multiplying each triplet of weights and their corresponding feature values, and summing the results. The loop is optimized by breaking when i>j and j>k to avoid computing duplicates and triplicates.\n",
    "Finally, the bias term is added to the polynomial value, and the result is returned.\n",
    "\n",
    "\n",
    "\n"
   ]
  },
  {
   "cell_type": "code",
   "execution_count": 27,
   "id": "2340c96a",
   "metadata": {},
   "outputs": [
    {
     "name": "stdout",
     "output_type": "stream",
     "text": [
      "11622\n"
     ]
    }
   ],
   "source": [
    "def gdf3_3d(w, x, r, n):\n",
    "    res = 0\n",
    "    #D1: Linear terms\n",
    "    for i in range(0,n):\n",
    "      res+=w[i]*x[i]\n",
    "      \n",
    "    #D2: Interaction terms of order 2\n",
    "    for i in range(0,n):\n",
    "      for j in range(i,n):\n",
    "        if i>j:\n",
    "          break\n",
    "        res+=w[i]*w[j]*x[i]*x[j]\n",
    "    \n",
    "    #D3: Interaction terms of order 3\n",
    "    for i in range(0,n):\n",
    "      for j in range(i,n):\n",
    "        for k in range(j,n):\n",
    "          if i>j and j>k:\n",
    "            break\n",
    "          res+=w[i]*w[j]*w[k]*x[i]*x[j]*x[k]\n",
    "    \n",
    "    return res+w[n]\n",
    "\n",
    "\n",
    "              \n",
    "                \n",
    "                \n",
    "print(gdf3_3d([1,5,3,1], [3,4,1,1], 3, 3))"
   ]
  },
  {
   "cell_type": "markdown",
   "id": "4239244b",
   "metadata": {},
   "source": [
    "# Observing the results by changing the values of Weights"
   ]
  },
  {
   "cell_type": "code",
   "execution_count": 28,
   "id": "d9865e72",
   "metadata": {},
   "outputs": [
    {
     "name": "stdout",
     "output_type": "stream",
     "text": [
      "Second degree with 2 dimensions\n",
      "45\n",
      "Third degree with 2 dimensions\n",
      "220\n",
      "Second degree with 3 dimensions\n",
      "54\n",
      "Third degree with 3 dimensions\n",
      "274\n"
     ]
    }
   ],
   "source": [
    "print(\"Second degree with 2 dimensions\")\n",
    "print(gdf2_2d([1,1,1], [3,4,1], 2, 2)) \n",
    "print(\"Third degree with 2 dimensions\")\n",
    "print(gdf3_2d([1,1,1], [3,4,1], 3, 2))\n",
    "print(\"Second degree with 3 dimensions\")\n",
    "print(gdf2_3d([1,1,1,1], [3,4,1,1], 2, 3))\n",
    "print(\"Third degree with 3 dimensions\")\n",
    "print(gdf3_3d([1,1,1,1], [3,4,1,1], 3, 3))"
   ]
  },
  {
   "cell_type": "code",
   "execution_count": 29,
   "id": "653bbafe",
   "metadata": {},
   "outputs": [
    {
     "name": "stdout",
     "output_type": "stream",
     "text": [
      "Second degree with 2 dimensions\n",
      "205\n",
      "Third degree with 2 dimensions\n",
      "2500\n",
      "Second degree with 3 dimensions\n",
      "337\n",
      "Third degree with 3 dimensions\n",
      "4522\n"
     ]
    }
   ],
   "source": [
    "print(\"Second degree with 2 dimensions\")\n",
    "print(gdf2_2d([1,3,1], [3,4,1], 2, 2)) \n",
    "print(\"Third degree with 2 dimensions\")\n",
    "print(gdf3_2d([1,3,1], [3,4,1], 3, 2))\n",
    "print(\"Second degree with 3 dimensions\")\n",
    "print(gdf2_3d([1,3,6,1], [3,4,1,1], 2, 3))\n",
    "print(\"Third degree with 3 dimensions\")\n",
    "print(gdf3_3d([1,3,6,1], [3,4,1,1], 3, 3))"
   ]
  },
  {
   "cell_type": "code",
   "execution_count": null,
   "id": "065e7a8b",
   "metadata": {},
   "outputs": [],
   "source": []
  }
 ],
 "metadata": {
  "kernelspec": {
   "display_name": "Python 3 (ipykernel)",
   "language": "python",
   "name": "python3"
  },
  "language_info": {
   "codemirror_mode": {
    "name": "ipython",
    "version": 3
   },
   "file_extension": ".py",
   "mimetype": "text/x-python",
   "name": "python",
   "nbconvert_exporter": "python",
   "pygments_lexer": "ipython3",
   "version": "3.9.12"
  }
 },
 "nbformat": 4,
 "nbformat_minor": 5
}
